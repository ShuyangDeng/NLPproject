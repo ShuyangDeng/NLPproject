{
 "cells": [
  {
   "cell_type": "code",
   "execution_count": 1,
   "metadata": {},
   "outputs": [],
   "source": [
    "import nltk"
   ]
  },
  {
   "cell_type": "code",
   "execution_count": 6,
   "metadata": {},
   "outputs": [
    {
     "name": "stdout",
     "output_type": "stream",
     "text": [
      "showing info https://raw.githubusercontent.com/nltk/nltk_data/gh-pages/index.xml\n"
     ]
    },
    {
     "data": {
      "text/plain": [
       "True"
      ]
     },
     "execution_count": 6,
     "metadata": {},
     "output_type": "execute_result"
    }
   ],
   "source": [
    "nltk.download()"
   ]
  },
  {
   "cell_type": "code",
   "execution_count": 8,
   "metadata": {},
   "outputs": [
    {
     "name": "stdout",
     "output_type": "stream",
     "text": [
      "['All', 'work', 'and', 'no', 'play', 'makes', 'jack', 'a', 'dull', 'boy', ',', 'all', 'work', 'and', 'no', 'play']\n"
     ]
    }
   ],
   "source": [
    "from nltk.tokenize import sent_tokenize, word_tokenize\n",
    "data=\" All work and no play makes jack a dull boy, all work and no play\"\n",
    "print(word_tokenize(data))"
   ]
  },
  {
   "cell_type": "code",
   "execution_count": 12,
   "metadata": {},
   "outputs": [
    {
     "name": "stdout",
     "output_type": "stream",
     "text": [
      "[' All work and no play makes jack a dull boy.', 'all work and no play.']\n"
     ]
    }
   ],
   "source": [
    "data=\" All work and no play makes jack a dull boy. all work and no play.\"\n",
    "print(sent_tokenize(data))"
   ]
  },
  {
   "cell_type": "code",
   "execution_count": 13,
   "metadata": {},
   "outputs": [
    {
     "name": "stdout",
     "output_type": "stream",
     "text": [
      "[' All work and no play makes jack a dull boy.', 'all work and no play.']\n",
      "['All', 'work', 'and', 'no', 'play', 'makes', 'jack', 'a', 'dull', 'boy', '.', 'all', 'work', 'and', 'no', 'play', '.']\n"
     ]
    }
   ],
   "source": [
    "data=\" All work and no play makes jack a dull boy. all work and no play.\"\n",
    "phrases=sent_tokenize(data)\n",
    "words=word_tokenize(data)\n",
    "print(phrases)\n",
    "print(words)"
   ]
  },
  {
   "cell_type": "code",
   "execution_count": 14,
   "metadata": {},
   "outputs": [
    {
     "name": "stdout",
     "output_type": "stream",
     "text": [
      "['All', 'work', 'and', 'no', 'play', 'makes', 'jack', 'dull', 'boy', '.', 'All', 'work', 'and', 'no', 'play', 'makes', 'jack', 'a', 'dull', 'boy', '.']\n"
     ]
    }
   ],
   "source": [
    "data = \"All work and no play makes jack dull boy. All work and no play makes jack a dull boy.\"\n",
    "words = word_tokenize(data)\n",
    "print(words)"
   ]
  },
  {
   "cell_type": "code",
   "execution_count": 16,
   "metadata": {},
   "outputs": [
    {
     "name": "stdout",
     "output_type": "stream",
     "text": [
      "['All', 'work', 'play', 'makes', 'jack', 'dull', 'boy', '.', 'All', 'work', 'play', 'makes', 'jack', 'dull', 'boy', '.']\n"
     ]
    }
   ],
   "source": [
    "from nltk.corpus import stopwords\n",
    "data = \"All work and no play makes jack dull boy. All work and no play makes jack a dull boy.\"\n",
    "stopWords=set(stopwords.words('english'))\n",
    "words=word_tokenize(data)\n",
    "wordsFiltered=[]\n",
    "\n",
    "for w in words:\n",
    "    if w not in stopWords:\n",
    "        wordsFiltered.append(w)\n",
    "print(wordsFiltered)"
   ]
  },
  {
   "cell_type": "code",
   "execution_count": 18,
   "metadata": {},
   "outputs": [
    {
     "name": "stdout",
     "output_type": "stream",
     "text": [
      "179\n",
      "{\"shan't\", \"you've\", 'itself', 'such', 'we', 'd', 'them', 'don', 'is', 'she', 'hadn', 'wasn', 'will', 'up', \"needn't\", 'should', 'theirs', 'while', 'until', 'been', 'under', 'he', 'with', 'y', 'that', \"don't\", 'has', \"you're\", 'above', 'i', 'over', 'off', 'me', 'hasn', 'own', 'at', \"should've\", 'hers', 'yours', 'be', 'won', 'am', 've', 'by', 'each', \"you'd\", 'him', 'few', 'll', 'couldn', 'shouldn', 'these', 'herself', \"you'll\", 'why', 'not', 'my', 't', 'this', 'had', 'm', \"hadn't\", 'into', 'wouldn', 'yourself', 'ain', \"wasn't\", 'if', 'the', 'ours', 'down', 'too', \"mightn't\", 'mustn', \"shouldn't\", 'its', \"that'll\", 'mightn', 'more', 'during', 'but', 'his', 'from', 'himself', 'before', 'are', 'to', \"aren't\", 'all', 'o', 'most', 'isn', \"couldn't\", 'was', 'having', 'of', 'a', 'they', 'weren', 'because', 'haven', 'when', 'didn', 'being', 'again', 'aren', 'shan', 'other', 'myself', \"mustn't\", 'themselves', 'nor', \"weren't\", 'you', 'in', 'where', 'than', 'now', 'do', 'only', \"won't\", 'both', \"hasn't\", 'did', 'can', 'and', 'their', 'her', 'or', \"haven't\", 'against', 'below', 're', 'once', 'who', 'further', 'just', 'an', 'doesn', 'so', 'between', 'it', \"wouldn't\", 'through', 'whom', 'then', 'have', 'same', 's', 'after', \"it's\", \"isn't\", 'ma', 'your', 'doing', 'out', 'very', 'those', 'for', 'how', \"she's\", 'ourselves', 'here', 'no', \"didn't\", 'needn', 'does', 'on', \"doesn't\", 'were', 'some', 'there', 'which', 'yourselves', 'as', 'any', 'our', 'what', 'about'}\n"
     ]
    }
   ],
   "source": [
    "print(len(stopWords))\n",
    "print(stopWords)"
   ]
  },
  {
   "cell_type": "code",
   "execution_count": 20,
   "metadata": {},
   "outputs": [
    {
     "name": "stdout",
     "output_type": "stream",
     "text": [
      "game\n",
      "game\n",
      "game\n",
      "game\n"
     ]
    }
   ],
   "source": [
    "from nltk.stem import PorterStemmer\n",
    "words = [\"game\",\"gaming\",\"gamed\",\"games\"]\n",
    "\n",
    "ps=PorterStemmer()\n",
    "\n",
    "for word in words:\n",
    "    print(ps.stem(word))"
   ]
  },
  {
   "cell_type": "code",
   "execution_count": 23,
   "metadata": {},
   "outputs": [
    {
     "name": "stdout",
     "output_type": "stream",
     "text": [
      "gaming:game\n",
      ",:,\n",
      "the:the\n",
      "gamers:gamer\n",
      "play:play\n",
      "games:game\n"
     ]
    }
   ],
   "source": [
    "sentence = \"gaming, the gamers play games\"\n",
    "words=word_tokenize(sentence)\n",
    "ps=PorterStemmer()\n",
    "for word in words:\n",
    "    print(word + \":\" + ps.stem(word))"
   ]
  },
  {
   "cell_type": "code",
   "execution_count": 33,
   "metadata": {},
   "outputs": [
    {
     "name": "stdout",
     "output_type": "stream",
     "text": [
      "[('Whether', 'IN'), ('you', 'PRP'), (\"'re\", 'VBP'), ('new', 'JJ'), ('to', 'TO'), ('programming', 'VBG'), ('or', 'CC'), ('an', 'DT'), ('experienced', 'JJ'), ('developer', 'NN'), (',', ','), ('it', 'PRP'), (\"'s\", 'VBZ'), ('easy', 'JJ'), ('to', 'TO'), ('learn', 'VB'), ('and', 'CC'), ('use', 'VB'), ('Python', 'NNP'), ('.', '.')]\n"
     ]
    }
   ],
   "source": [
    "import nltk\n",
    "from nltk.tokenize import PunktSentenceTokenizer\n",
    "document = \"Whether you\\'re new to programming or an experienced developer, it\\'s easy to learn and use Python.\"\n",
    "sentences=nltk.sent_tokenize(document)\n",
    "\n",
    "for sent in sentences:\n",
    "    print(nltk.pos_tag(nltk.word_tokenize(sent)))"
   ]
  },
  {
   "cell_type": "code",
   "execution_count": 34,
   "metadata": {},
   "outputs": [],
   "source": [
    "from nltk.corpus import state_union"
   ]
  },
  {
   "cell_type": "code",
   "execution_count": 35,
   "metadata": {},
   "outputs": [
    {
     "name": "stdout",
     "output_type": "stream",
     "text": [
      "('Netherlands', 'NNP')\n",
      "('King', 'NNP')\n",
      "('Day', 'NNP')\n",
      "('San', 'NNP')\n",
      "('Francisco', 'NNP')\n"
     ]
    }
   ],
   "source": [
    "document = 'Today the Netherlands celebrates King\\'s Day. To honor this tradition, the Dutch embassy in San Francisco invited me to'\n",
    "sentences = nltk.sent_tokenize(document)\n",
    "\n",
    "data=[]\n",
    "for sent in sentences:\n",
    "    data=data+ nltk.pos_tag(nltk.word_tokenize(sent))\n",
    "    \n",
    "for word in data:\n",
    "    if 'NNP' in word[1]:\n",
    "        print(word)"
   ]
  },
  {
   "cell_type": "code",
   "execution_count": 69,
   "metadata": {},
   "outputs": [
    {
     "name": "stdout",
     "output_type": "stream",
     "text": [
      "Name: Anna\n",
      "female\n"
     ]
    }
   ],
   "source": [
    "import nltk.classify.util\n",
    "from nltk.classify import NaiveBayesClassifier\n",
    "from nltk.corpus import names\n",
    "\n",
    "def gender_features(word):\n",
    "    return {'last_letter': word[-1]}\n",
    "\n",
    "names = ([(name, 'male') for name in names.words('male.txt')] + \n",
    "\t [(name, 'female') for name in names.words('female.txt')])\n",
    "featuresets=[(gender_features(n),g)for(n,g)in names]\n",
    "\n",
    "train_set=featuresets\n",
    "\n",
    "classifier=nltk.NaiveBayesClassifier.train(train_set) \n",
    "    \n",
    "\n",
    "name=input('Name: ')\n",
    "print(classifier.classify(gender_features(name)))\n",
    "\n",
    "      \n"
   ]
  },
  {
   "cell_type": "code",
   "execution_count": 70,
   "metadata": {},
   "outputs": [],
   "source": [
    "positive_vocab = [ 'awesome', 'outstanding', 'fantastic', 'terrific', 'good', 'nice', 'great', ':)' ]\n",
    "negative_vocab = [ 'bad', 'terrible','useless', 'hate', ':(' ]\n",
    "neutral_vocab = [ 'movie','the','sound','was','is','actors','did','know','words','not' ]"
   ]
  },
  {
   "cell_type": "code",
   "execution_count": 73,
   "metadata": {},
   "outputs": [
    {
     "name": "stdout",
     "output_type": "stream",
     "text": [
      "Positive: 0.6\n",
      "Negative: 0.2\n"
     ]
    }
   ],
   "source": [
    "def word_feats(words):\n",
    "    return dict([(word, True)for word in words])\n",
    "positive_features = [(word_feats(pos), 'pos') for pos in positive_vocab]\n",
    "negative_features = [(word_feats(neg), 'neg') for neg in negative_vocab]\n",
    "neutral_features = [(word_feats(neu), 'neu') for neu in neutral_vocab]\n",
    "\n",
    "train_set = negative_features + positive_features + neutral_features\n",
    "\n",
    "classifier = NaiveBayesClassifier.train(train_set)\n",
    "\n",
    "neg = 0\n",
    "pos = 0\n",
    "sentence = \"Awesome movie, I liked it\"\n",
    "sentence = sentence.lower()\n",
    "words = sentence.split(' ')\n",
    "for word in words:\n",
    "    classResult = classifier.classify( word_feats(word))\n",
    "    if classResult == 'neg':\n",
    "        neg = neg + 1\n",
    "    if classResult == 'pos':\n",
    "        pos = pos + 1\n",
    " \n",
    "print('Positive: ' + str(float(pos)/len(words)))\n",
    "print('Negative: ' + str(float(neg)/len(words)))"
   ]
  }
 ],
 "metadata": {
  "kernelspec": {
   "display_name": "Python 3",
   "language": "python",
   "name": "python3"
  },
  "language_info": {
   "codemirror_mode": {
    "name": "ipython",
    "version": 3
   },
   "file_extension": ".py",
   "mimetype": "text/x-python",
   "name": "python",
   "nbconvert_exporter": "python",
   "pygments_lexer": "ipython3",
   "version": "3.6.5"
  }
 },
 "nbformat": 4,
 "nbformat_minor": 2
}
